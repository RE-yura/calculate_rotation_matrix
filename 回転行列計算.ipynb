{
 "cells": [
  {
   "cell_type": "code",
   "execution_count": 2,
   "metadata": {},
   "outputs": [],
   "source": [
    "import sympy \n",
    "import numpy as np\n",
    "import re as re\n",
    "\n",
    "sympy.var('alpha, beta, gamma')\n",
    "sympy.var('x, y, z')\n",
    "Sx = sympy.sin(x)\n",
    "Cx = sympy.cos(x)\n",
    "Sy = sympy.sin(y)\n",
    "Cy = sympy.cos(y)\n",
    "Sz = sympy.sin(z)\n",
    "Cz = sympy.cos(z)"
   ]
  },
  {
   "cell_type": "code",
   "execution_count": 3,
   "metadata": {},
   "outputs": [
    {
     "data": {
      "text/latex": [
       "$\\displaystyle \\left[\\begin{matrix}\\sin{\\left(x \\right)} \\sin{\\left(y \\right)} \\sin{\\left(z \\right)} + \\cos{\\left(y \\right)} \\cos{\\left(z \\right)} & - \\sin{\\left(z \\right)} \\cos{\\left(x \\right)} & \\sin{\\left(x \\right)} \\sin{\\left(z \\right)} \\cos{\\left(y \\right)} - \\sin{\\left(y \\right)} \\cos{\\left(z \\right)}\\\\- \\sin{\\left(x \\right)} \\sin{\\left(y \\right)} \\cos{\\left(z \\right)} + \\sin{\\left(z \\right)} \\cos{\\left(y \\right)} & \\cos{\\left(x \\right)} \\cos{\\left(z \\right)} & - \\sin{\\left(x \\right)} \\cos{\\left(y \\right)} \\cos{\\left(z \\right)} - \\sin{\\left(y \\right)} \\sin{\\left(z \\right)}\\\\\\sin{\\left(y \\right)} \\cos{\\left(x \\right)} & \\sin{\\left(x \\right)} & \\cos{\\left(x \\right)} \\cos{\\left(y \\right)}\\end{matrix}\\right]$"
      ],
      "text/plain": [
       "Matrix([\n",
       "[ sin(x)*sin(y)*sin(z) + cos(y)*cos(z), -sin(z)*cos(x),  sin(x)*sin(z)*cos(y) - sin(y)*cos(z)],\n",
       "[-sin(x)*sin(y)*cos(z) + sin(z)*cos(y),  cos(x)*cos(z), -sin(x)*cos(y)*cos(z) - sin(y)*sin(z)],\n",
       "[                        sin(y)*cos(x),         sin(x),                         cos(x)*cos(y)]])"
      ]
     },
     "execution_count": 3,
     "metadata": {},
     "output_type": "execute_result"
    }
   ],
   "source": [
    "Rx = sympy.Matrix([ [  1,   0,   0 ],\n",
    "                    [  0,  Cx, -Sx ],\n",
    "                    [  0,  Sx,  Cx ] ])\n",
    "\n",
    "Ry = sympy.Matrix([ [ Cy,   0, -Sy ],\n",
    "                    [  0,   1,   0 ],\n",
    "                    [ Sy,   0,  Cy ] ])\n",
    "\n",
    "Rz = sympy.Matrix([ [ Cz, -Sz,   0 ],\n",
    "                    [ Sz,  Cz,   0 ],\n",
    "                    [  0,   0,   1 ] ])\n",
    "\n",
    "# R = Rx * Ry * Rz\n",
    "# R = Ry * Rz * Rx\n",
    "# R = Rx * Rz * Ry\n",
    "R = Rz * Rx * Ry\n",
    "R"
   ]
  },
  {
   "cell_type": "code",
   "execution_count": 4,
   "metadata": {},
   "outputs": [
    {
     "data": {
      "text/latex": [
       "$\\displaystyle - \\tan{\\left(z \\right)}$"
      ],
      "text/plain": [
       "-tan(z)"
      ]
     },
     "execution_count": 4,
     "metadata": {},
     "output_type": "execute_result"
    }
   ],
   "source": [
    "sympy.simplify(R[0,1]/R[1,1])"
   ]
  },
  {
   "cell_type": "code",
   "execution_count": 5,
   "metadata": {},
   "outputs": [
    {
     "data": {
      "text/latex": [
       "$\\displaystyle - \\sin{\\left(x \\right)} \\sin^{2}{\\left(y \\right)} \\sin^{2}{\\left(z \\right)} - \\sin{\\left(x \\right)} \\sin^{2}{\\left(y \\right)} \\cos^{2}{\\left(z \\right)} - \\sin{\\left(x \\right)} \\sin^{2}{\\left(z \\right)} \\cos^{2}{\\left(y \\right)} - \\sin{\\left(x \\right)} \\cos^{2}{\\left(y \\right)} \\cos^{2}{\\left(z \\right)}$"
      ],
      "text/plain": [
       "-sin(x)*sin(y)**2*sin(z)**2 - sin(x)*sin(y)**2*cos(z)**2 - sin(x)*sin(z)**2*cos(y)**2 - sin(x)*cos(y)**2*cos(z)**2"
      ]
     },
     "execution_count": 5,
     "metadata": {},
     "output_type": "execute_result"
    }
   ],
   "source": [
    "sympy.expand(R[0,0] * R[1,2] - R[0,2] * R[1,0])"
   ]
  },
  {
   "cell_type": "code",
   "execution_count": null,
   "metadata": {},
   "outputs": [],
   "source": []
  }
 ],
 "metadata": {
  "kernelspec": {
   "display_name": "Python 3",
   "language": "python",
   "name": "python3"
  },
  "language_info": {
   "codemirror_mode": {
    "name": "ipython",
    "version": 3
   },
   "file_extension": ".py",
   "mimetype": "text/x-python",
   "name": "python",
   "nbconvert_exporter": "python",
   "pygments_lexer": "ipython3",
   "version": "3.7.4"
  },
  "varInspector": {
   "cols": {
    "lenName": 16,
    "lenType": 16,
    "lenVar": 40
   },
   "kernels_config": {
    "python": {
     "delete_cmd_postfix": "",
     "delete_cmd_prefix": "del ",
     "library": "var_list.py",
     "varRefreshCmd": "print(var_dic_list())"
    },
    "r": {
     "delete_cmd_postfix": ") ",
     "delete_cmd_prefix": "rm(",
     "library": "var_list.r",
     "varRefreshCmd": "cat(var_dic_list()) "
    }
   },
   "types_to_exclude": [
    "module",
    "function",
    "builtin_function_or_method",
    "instance",
    "_Feature"
   ],
   "window_display": false
  }
 },
 "nbformat": 4,
 "nbformat_minor": 2
}
